{
  "nbformat": 4,
  "nbformat_minor": 0,
  "metadata": {
    "colab": {
      "provenance": []
    },
    "kernelspec": {
      "name": "python3",
      "display_name": "Python 3"
    },
    "language_info": {
      "name": "python"
    }
  },
  "cells": [
    {
      "cell_type": "code",
      "source": [
        "!gdown --fuzzy https://drive.google.com/file/d/1QJrQsEYOfPBn1LoIeYMZ2HFBRC0AY-6F/view?usp=sharing\n",
        "!gdown --fuzzy https://drive.google.com/file/d/1zStcaVl_34RrYIfVObuM4xzB6s8xwvBi/view?usp=sharing"
      ],
      "metadata": {
        "colab": {
          "base_uri": "https://localhost:8080/"
        },
        "id": "_bBL0A3CGFov",
        "outputId": "fe09b9fc-769b-47bb-90bc-31a0d2e0fa4a"
      },
      "execution_count": 43,
      "outputs": [
        {
          "output_type": "stream",
          "name": "stdout",
          "text": [
            "Downloading...\n",
            "From: https://drive.google.com/uc?id=1QJrQsEYOfPBn1LoIeYMZ2HFBRC0AY-6F\n",
            "To: /content/dataset.py\n",
            "100% 909/909 [00:00<00:00, 3.36MB/s]\n",
            "Downloading...\n",
            "From: https://drive.google.com/uc?id=1zStcaVl_34RrYIfVObuM4xzB6s8xwvBi\n",
            "To: /content/Data_hoda_full.mat\n",
            "100% 3.99M/3.99M [00:00<00:00, 259MB/s]\n"
          ]
        }
      ]
    },
    {
      "cell_type": "code",
      "source": [
        "import keras\n",
        "import numpy as np\n",
        "import matplotlib.pyplot as plt\n",
        "\n",
        "from keras.models import Sequential\n",
        "from keras.layers import Dense,  Activation\n",
        "from dataset import load_hoda"
      ],
      "metadata": {
        "id": "YD5v_SUZGJGZ"
      },
      "execution_count": 44,
      "outputs": []
    },
    {
      "cell_type": "code",
      "source": [
        "x_train_original, y_train_original, x_test_original, y_test_original = load_hoda()"
      ],
      "metadata": {
        "id": "SMtYmZtsGMfy"
      },
      "execution_count": 46,
      "outputs": []
    },
    {
      "cell_type": "code",
      "source": [
        "# Preprocess input data for Keras.\n",
        "x_train = np.array(x_train_original)\n",
        "y_train = keras.utils.to_categorical(y_train_original, num_classes=10)\n",
        "x_test = np.array(x_test_original)\n",
        "y_test = keras.utils.to_categorical(y_test_original, num_classes=10)"
      ],
      "metadata": {
        "id": "GoJToBbWGPEH"
      },
      "execution_count": 45,
      "outputs": []
    },
    {
      "cell_type": "code",
      "source": [
        "def print_data_info(x_train, y_train, x_test, y_test):\n",
        "    #Check data Type\n",
        "    print (\"\\ttype(x_train): {}\".format(type(x_train)))\n",
        "    print (\"\\ttype(y_train): {}\".format(type(y_train)))\n",
        "\n",
        "    #check data Shape\n",
        "    print (\"\\tx_train.shape: {}\".format(np.shape(x_train)))\n",
        "    print (\"\\ty_train.shape: {}\".format(np.shape(y_train)))\n",
        "    print (\"\\tx_test.shape: {}\".format(np.shape(x_test)))\n",
        "    print (\"\\ty_test.shape: {}\".format(np.shape(y_test)))\n",
        "\n",
        "    #sample data\n",
        "    print (\"\\ty_train[0]: {}\".format(y_train[0]))"
      ],
      "metadata": {
        "id": "xY82p00SGRck"
      },
      "execution_count": 47,
      "outputs": []
    },
    {
      "cell_type": "code",
      "source": [
        "print(\"Before Preprocessing:\")\n",
        "print_data_info(x_train_original, y_train_original, x_test_original, y_test_original)\n",
        "print(\"After Preprocessing:\")\n",
        "print_data_info(x_train, y_train, x_test, y_test)"
      ],
      "metadata": {
        "colab": {
          "base_uri": "https://localhost:8080/"
        },
        "id": "Fi8AYwt_GTzu",
        "outputId": "17bd8fa7-845c-4d12-ba55-24d3088d9d5f"
      },
      "execution_count": 48,
      "outputs": [
        {
          "output_type": "stream",
          "name": "stdout",
          "text": [
            "Before Preprocessing:\n",
            "\ttype(x_train): <class 'numpy.ndarray'>\n",
            "\ttype(y_train): <class 'numpy.ndarray'>\n",
            "\tx_train.shape: (1000, 25)\n",
            "\ty_train.shape: (1000,)\n",
            "\tx_test.shape: (200, 25)\n",
            "\ty_test.shape: (200,)\n",
            "\ty_train[0]: 6\n",
            "After Preprocessing:\n",
            "\ttype(x_train): <class 'numpy.ndarray'>\n",
            "\ttype(y_train): <class 'numpy.ndarray'>\n",
            "\tx_train.shape: (1000, 25)\n",
            "\ty_train.shape: (1000, 10)\n",
            "\tx_test.shape: (200, 25)\n",
            "\ty_test.shape: (200, 10)\n",
            "\ty_train[0]: [0. 0. 0. 0. 0. 0. 1. 0. 0. 0.]\n"
          ]
        }
      ]
    },
    {
      "cell_type": "code",
      "source": [
        "x_train = x_train.astype('float32')\n",
        "x_test = x_test.astype('float32')\n",
        "x_train /= 255\n",
        "x_test /= 255"
      ],
      "metadata": {
        "id": "-Wdthp-0GWGx"
      },
      "execution_count": 49,
      "outputs": []
    },
    {
      "cell_type": "code",
      "source": [
        "# In this Create the model, input dim=25 and output dim = 10\n",
        "\n",
        "##################################\n",
        "# you code here\n",
        "##################################\n",
        "# model = ...\n",
        "model = Sequential([Dense(10, input_dim=25, name='layer'),Activation('softmax', name='softmax_active')], name='hoda_model')"
      ],
      "metadata": {
        "id": "-OLJW2zwGYpg"
      },
      "execution_count": 50,
      "outputs": []
    },
    {
      "cell_type": "code",
      "source": [
        "model.summary()"
      ],
      "metadata": {
        "colab": {
          "base_uri": "https://localhost:8080/"
        },
        "id": "HVmejeflGamn",
        "outputId": "cca7a5c1-5529-4605-ac20-397e7589b9d4"
      },
      "execution_count": 51,
      "outputs": [
        {
          "output_type": "stream",
          "name": "stdout",
          "text": [
            "Model: \"hoda_model\"\n",
            "_________________________________________________________________\n",
            " Layer (type)                Output Shape              Param #   \n",
            "=================================================================\n",
            " layer (Dense)               (None, 10)                260       \n",
            "                                                                 \n",
            " softmax_active (Activation  (None, 10)                0         \n",
            " )                                                               \n",
            "                                                                 \n",
            "=================================================================\n",
            "Total params: 260 (1.02 KB)\n",
            "Trainable params: 260 (1.02 KB)\n",
            "Non-trainable params: 0 (0.00 Byte)\n",
            "_________________________________________________________________\n"
          ]
        }
      ]
    },
    {
      "cell_type": "code",
      "source": [
        "# In this cell compile mode, set loss function and optimizer and get metrics accuracy\n",
        "\n",
        "##################################\n",
        "model.compile(optimizer='adam', loss='categorical_crossentropy', metrics=['accuracy'])\n",
        "# you code here\n",
        "##################################"
      ],
      "metadata": {
        "id": "4D4QvJq3GcUR"
      },
      "execution_count": 52,
      "outputs": []
    },
    {
      "cell_type": "code",
      "source": [
        "MLP_model = model.fit(x_train, y_train,\n",
        "          epochs=100,\n",
        "          batch_size=64, validation_data=(x_test, y_test))"
      ],
      "metadata": {
        "colab": {
          "base_uri": "https://localhost:8080/"
        },
        "id": "EzAy7_mYGmAL",
        "outputId": "1c772454-1a6c-40c8-b234-4c41e2861def"
      },
      "execution_count": 53,
      "outputs": [
        {
          "output_type": "stream",
          "name": "stdout",
          "text": [
            "Epoch 1/100\n",
            "16/16 [==============================] - 1s 15ms/step - loss: 2.5492 - accuracy: 0.1550 - val_loss: 2.4507 - val_accuracy: 0.1600\n",
            "Epoch 2/100\n",
            "16/16 [==============================] - 0s 4ms/step - loss: 2.4304 - accuracy: 0.1660 - val_loss: 2.3541 - val_accuracy: 0.1700\n",
            "Epoch 3/100\n",
            "16/16 [==============================] - 0s 5ms/step - loss: 2.3241 - accuracy: 0.1750 - val_loss: 2.2675 - val_accuracy: 0.1850\n",
            "Epoch 4/100\n",
            "16/16 [==============================] - 0s 5ms/step - loss: 2.2297 - accuracy: 0.1960 - val_loss: 2.1879 - val_accuracy: 0.2050\n",
            "Epoch 5/100\n",
            "16/16 [==============================] - 0s 5ms/step - loss: 2.1430 - accuracy: 0.2160 - val_loss: 2.1180 - val_accuracy: 0.2100\n",
            "Epoch 6/100\n",
            "16/16 [==============================] - 0s 5ms/step - loss: 2.0669 - accuracy: 0.2410 - val_loss: 2.0519 - val_accuracy: 0.2400\n",
            "Epoch 7/100\n",
            "16/16 [==============================] - 0s 5ms/step - loss: 1.9958 - accuracy: 0.2780 - val_loss: 1.9913 - val_accuracy: 0.2850\n",
            "Epoch 8/100\n",
            "16/16 [==============================] - 0s 5ms/step - loss: 1.9328 - accuracy: 0.3130 - val_loss: 1.9346 - val_accuracy: 0.3200\n",
            "Epoch 9/100\n",
            "16/16 [==============================] - 0s 5ms/step - loss: 1.8734 - accuracy: 0.3700 - val_loss: 1.8811 - val_accuracy: 0.3600\n",
            "Epoch 10/100\n",
            "16/16 [==============================] - 0s 4ms/step - loss: 1.8187 - accuracy: 0.4220 - val_loss: 1.8310 - val_accuracy: 0.4000\n",
            "Epoch 11/100\n",
            "16/16 [==============================] - 0s 5ms/step - loss: 1.7678 - accuracy: 0.4580 - val_loss: 1.7813 - val_accuracy: 0.4350\n",
            "Epoch 12/100\n",
            "16/16 [==============================] - 0s 5ms/step - loss: 1.7188 - accuracy: 0.4800 - val_loss: 1.7352 - val_accuracy: 0.4350\n",
            "Epoch 13/100\n",
            "16/16 [==============================] - 0s 4ms/step - loss: 1.6730 - accuracy: 0.5040 - val_loss: 1.6906 - val_accuracy: 0.4600\n",
            "Epoch 14/100\n",
            "16/16 [==============================] - 0s 4ms/step - loss: 1.6292 - accuracy: 0.5210 - val_loss: 1.6487 - val_accuracy: 0.4950\n",
            "Epoch 15/100\n",
            "16/16 [==============================] - 0s 5ms/step - loss: 1.5875 - accuracy: 0.5460 - val_loss: 1.6070 - val_accuracy: 0.5150\n",
            "Epoch 16/100\n",
            "16/16 [==============================] - 0s 4ms/step - loss: 1.5473 - accuracy: 0.5690 - val_loss: 1.5670 - val_accuracy: 0.5400\n",
            "Epoch 17/100\n",
            "16/16 [==============================] - 0s 5ms/step - loss: 1.5091 - accuracy: 0.5960 - val_loss: 1.5293 - val_accuracy: 0.5550\n",
            "Epoch 18/100\n",
            "16/16 [==============================] - 0s 4ms/step - loss: 1.4726 - accuracy: 0.6220 - val_loss: 1.4920 - val_accuracy: 0.5600\n",
            "Epoch 19/100\n",
            "16/16 [==============================] - 0s 4ms/step - loss: 1.4373 - accuracy: 0.6380 - val_loss: 1.4560 - val_accuracy: 0.5900\n",
            "Epoch 20/100\n",
            "16/16 [==============================] - 0s 5ms/step - loss: 1.4036 - accuracy: 0.6560 - val_loss: 1.4224 - val_accuracy: 0.6100\n",
            "Epoch 21/100\n",
            "16/16 [==============================] - 0s 4ms/step - loss: 1.3711 - accuracy: 0.6650 - val_loss: 1.3898 - val_accuracy: 0.6350\n",
            "Epoch 22/100\n",
            "16/16 [==============================] - 0s 6ms/step - loss: 1.3402 - accuracy: 0.6760 - val_loss: 1.3584 - val_accuracy: 0.6450\n",
            "Epoch 23/100\n",
            "16/16 [==============================] - 0s 5ms/step - loss: 1.3104 - accuracy: 0.6910 - val_loss: 1.3275 - val_accuracy: 0.6700\n",
            "Epoch 24/100\n",
            "16/16 [==============================] - 0s 5ms/step - loss: 1.2817 - accuracy: 0.7020 - val_loss: 1.2982 - val_accuracy: 0.6800\n",
            "Epoch 25/100\n",
            "16/16 [==============================] - 0s 4ms/step - loss: 1.2541 - accuracy: 0.7140 - val_loss: 1.2703 - val_accuracy: 0.6900\n",
            "Epoch 26/100\n",
            "16/16 [==============================] - 0s 5ms/step - loss: 1.2278 - accuracy: 0.7160 - val_loss: 1.2430 - val_accuracy: 0.7000\n",
            "Epoch 27/100\n",
            "16/16 [==============================] - 0s 4ms/step - loss: 1.2024 - accuracy: 0.7240 - val_loss: 1.2166 - val_accuracy: 0.7000\n",
            "Epoch 28/100\n",
            "16/16 [==============================] - 0s 4ms/step - loss: 1.1779 - accuracy: 0.7330 - val_loss: 1.1917 - val_accuracy: 0.7250\n",
            "Epoch 29/100\n",
            "16/16 [==============================] - 0s 5ms/step - loss: 1.1546 - accuracy: 0.7410 - val_loss: 1.1682 - val_accuracy: 0.7350\n",
            "Epoch 30/100\n",
            "16/16 [==============================] - 0s 5ms/step - loss: 1.1322 - accuracy: 0.7400 - val_loss: 1.1460 - val_accuracy: 0.7550\n",
            "Epoch 31/100\n",
            "16/16 [==============================] - 0s 4ms/step - loss: 1.1104 - accuracy: 0.7450 - val_loss: 1.1229 - val_accuracy: 0.7600\n",
            "Epoch 32/100\n",
            "16/16 [==============================] - 0s 5ms/step - loss: 1.0894 - accuracy: 0.7560 - val_loss: 1.1019 - val_accuracy: 0.7700\n",
            "Epoch 33/100\n",
            "16/16 [==============================] - 0s 5ms/step - loss: 1.0696 - accuracy: 0.7570 - val_loss: 1.0810 - val_accuracy: 0.7850\n",
            "Epoch 34/100\n",
            "16/16 [==============================] - 0s 5ms/step - loss: 1.0505 - accuracy: 0.7600 - val_loss: 1.0617 - val_accuracy: 0.7850\n",
            "Epoch 35/100\n",
            "16/16 [==============================] - 0s 5ms/step - loss: 1.0315 - accuracy: 0.7650 - val_loss: 1.0428 - val_accuracy: 0.7950\n",
            "Epoch 36/100\n",
            "16/16 [==============================] - 0s 5ms/step - loss: 1.0137 - accuracy: 0.7710 - val_loss: 1.0243 - val_accuracy: 0.8000\n",
            "Epoch 37/100\n",
            "16/16 [==============================] - 0s 4ms/step - loss: 0.9966 - accuracy: 0.7760 - val_loss: 1.0060 - val_accuracy: 0.8000\n",
            "Epoch 38/100\n",
            "16/16 [==============================] - 0s 5ms/step - loss: 0.9800 - accuracy: 0.7850 - val_loss: 0.9889 - val_accuracy: 0.8100\n",
            "Epoch 39/100\n",
            "16/16 [==============================] - 0s 4ms/step - loss: 0.9640 - accuracy: 0.7910 - val_loss: 0.9733 - val_accuracy: 0.8100\n",
            "Epoch 40/100\n",
            "16/16 [==============================] - 0s 5ms/step - loss: 0.9485 - accuracy: 0.7920 - val_loss: 0.9573 - val_accuracy: 0.8100\n",
            "Epoch 41/100\n",
            "16/16 [==============================] - 0s 4ms/step - loss: 0.9336 - accuracy: 0.7930 - val_loss: 0.9413 - val_accuracy: 0.8100\n",
            "Epoch 42/100\n",
            "16/16 [==============================] - 0s 4ms/step - loss: 0.9191 - accuracy: 0.7960 - val_loss: 0.9269 - val_accuracy: 0.8100\n",
            "Epoch 43/100\n",
            "16/16 [==============================] - 0s 5ms/step - loss: 0.9052 - accuracy: 0.8000 - val_loss: 0.9130 - val_accuracy: 0.8200\n",
            "Epoch 44/100\n",
            "16/16 [==============================] - 0s 4ms/step - loss: 0.8917 - accuracy: 0.8030 - val_loss: 0.8995 - val_accuracy: 0.8250\n",
            "Epoch 45/100\n",
            "16/16 [==============================] - 0s 5ms/step - loss: 0.8787 - accuracy: 0.8060 - val_loss: 0.8861 - val_accuracy: 0.8300\n",
            "Epoch 46/100\n",
            "16/16 [==============================] - 0s 5ms/step - loss: 0.8663 - accuracy: 0.8090 - val_loss: 0.8729 - val_accuracy: 0.8350\n",
            "Epoch 47/100\n",
            "16/16 [==============================] - 0s 5ms/step - loss: 0.8541 - accuracy: 0.8130 - val_loss: 0.8605 - val_accuracy: 0.8400\n",
            "Epoch 48/100\n",
            "16/16 [==============================] - 0s 6ms/step - loss: 0.8423 - accuracy: 0.8140 - val_loss: 0.8485 - val_accuracy: 0.8400\n",
            "Epoch 49/100\n",
            "16/16 [==============================] - 0s 5ms/step - loss: 0.8310 - accuracy: 0.8170 - val_loss: 0.8371 - val_accuracy: 0.8450\n",
            "Epoch 50/100\n",
            "16/16 [==============================] - 0s 4ms/step - loss: 0.8202 - accuracy: 0.8210 - val_loss: 0.8260 - val_accuracy: 0.8500\n",
            "Epoch 51/100\n",
            "16/16 [==============================] - 0s 4ms/step - loss: 0.8093 - accuracy: 0.8260 - val_loss: 0.8150 - val_accuracy: 0.8450\n",
            "Epoch 52/100\n",
            "16/16 [==============================] - 0s 5ms/step - loss: 0.7991 - accuracy: 0.8280 - val_loss: 0.8042 - val_accuracy: 0.8550\n",
            "Epoch 53/100\n",
            "16/16 [==============================] - 0s 4ms/step - loss: 0.7891 - accuracy: 0.8290 - val_loss: 0.7942 - val_accuracy: 0.8550\n",
            "Epoch 54/100\n",
            "16/16 [==============================] - 0s 5ms/step - loss: 0.7795 - accuracy: 0.8310 - val_loss: 0.7846 - val_accuracy: 0.8550\n",
            "Epoch 55/100\n",
            "16/16 [==============================] - 0s 4ms/step - loss: 0.7701 - accuracy: 0.8300 - val_loss: 0.7747 - val_accuracy: 0.8550\n",
            "Epoch 56/100\n",
            "16/16 [==============================] - 0s 4ms/step - loss: 0.7609 - accuracy: 0.8310 - val_loss: 0.7656 - val_accuracy: 0.8550\n",
            "Epoch 57/100\n",
            "16/16 [==============================] - 0s 4ms/step - loss: 0.7519 - accuracy: 0.8330 - val_loss: 0.7567 - val_accuracy: 0.8550\n",
            "Epoch 58/100\n",
            "16/16 [==============================] - 0s 5ms/step - loss: 0.7434 - accuracy: 0.8320 - val_loss: 0.7477 - val_accuracy: 0.8550\n",
            "Epoch 59/100\n",
            "16/16 [==============================] - 0s 4ms/step - loss: 0.7351 - accuracy: 0.8320 - val_loss: 0.7396 - val_accuracy: 0.8550\n",
            "Epoch 60/100\n",
            "16/16 [==============================] - 0s 4ms/step - loss: 0.7269 - accuracy: 0.8370 - val_loss: 0.7314 - val_accuracy: 0.8550\n",
            "Epoch 61/100\n",
            "16/16 [==============================] - 0s 4ms/step - loss: 0.7190 - accuracy: 0.8370 - val_loss: 0.7232 - val_accuracy: 0.8550\n",
            "Epoch 62/100\n",
            "16/16 [==============================] - 0s 5ms/step - loss: 0.7115 - accuracy: 0.8380 - val_loss: 0.7155 - val_accuracy: 0.8550\n",
            "Epoch 63/100\n",
            "16/16 [==============================] - 0s 4ms/step - loss: 0.7040 - accuracy: 0.8390 - val_loss: 0.7080 - val_accuracy: 0.8550\n",
            "Epoch 64/100\n",
            "16/16 [==============================] - 0s 4ms/step - loss: 0.6967 - accuracy: 0.8390 - val_loss: 0.7008 - val_accuracy: 0.8600\n",
            "Epoch 65/100\n",
            "16/16 [==============================] - 0s 4ms/step - loss: 0.6897 - accuracy: 0.8410 - val_loss: 0.6936 - val_accuracy: 0.8600\n",
            "Epoch 66/100\n",
            "16/16 [==============================] - 0s 4ms/step - loss: 0.6829 - accuracy: 0.8440 - val_loss: 0.6867 - val_accuracy: 0.8600\n",
            "Epoch 67/100\n",
            "16/16 [==============================] - 0s 5ms/step - loss: 0.6761 - accuracy: 0.8450 - val_loss: 0.6798 - val_accuracy: 0.8600\n",
            "Epoch 68/100\n",
            "16/16 [==============================] - 0s 5ms/step - loss: 0.6696 - accuracy: 0.8460 - val_loss: 0.6732 - val_accuracy: 0.8600\n",
            "Epoch 69/100\n",
            "16/16 [==============================] - 0s 4ms/step - loss: 0.6632 - accuracy: 0.8440 - val_loss: 0.6667 - val_accuracy: 0.8550\n",
            "Epoch 70/100\n",
            "16/16 [==============================] - 0s 5ms/step - loss: 0.6570 - accuracy: 0.8460 - val_loss: 0.6609 - val_accuracy: 0.8600\n",
            "Epoch 71/100\n",
            "16/16 [==============================] - 0s 5ms/step - loss: 0.6509 - accuracy: 0.8460 - val_loss: 0.6545 - val_accuracy: 0.8600\n",
            "Epoch 72/100\n",
            "16/16 [==============================] - 0s 5ms/step - loss: 0.6451 - accuracy: 0.8480 - val_loss: 0.6488 - val_accuracy: 0.8550\n",
            "Epoch 73/100\n",
            "16/16 [==============================] - 0s 4ms/step - loss: 0.6394 - accuracy: 0.8510 - val_loss: 0.6428 - val_accuracy: 0.8600\n",
            "Epoch 74/100\n",
            "16/16 [==============================] - 0s 4ms/step - loss: 0.6337 - accuracy: 0.8510 - val_loss: 0.6374 - val_accuracy: 0.8550\n",
            "Epoch 75/100\n",
            "16/16 [==============================] - 0s 5ms/step - loss: 0.6282 - accuracy: 0.8530 - val_loss: 0.6315 - val_accuracy: 0.8600\n",
            "Epoch 76/100\n",
            "16/16 [==============================] - 0s 5ms/step - loss: 0.6229 - accuracy: 0.8540 - val_loss: 0.6266 - val_accuracy: 0.8600\n",
            "Epoch 77/100\n",
            "16/16 [==============================] - 0s 5ms/step - loss: 0.6177 - accuracy: 0.8540 - val_loss: 0.6212 - val_accuracy: 0.8600\n",
            "Epoch 78/100\n",
            "16/16 [==============================] - 0s 4ms/step - loss: 0.6126 - accuracy: 0.8550 - val_loss: 0.6161 - val_accuracy: 0.8600\n",
            "Epoch 79/100\n",
            "16/16 [==============================] - 0s 4ms/step - loss: 0.6076 - accuracy: 0.8560 - val_loss: 0.6111 - val_accuracy: 0.8600\n",
            "Epoch 80/100\n",
            "16/16 [==============================] - 0s 5ms/step - loss: 0.6027 - accuracy: 0.8590 - val_loss: 0.6060 - val_accuracy: 0.8650\n",
            "Epoch 81/100\n",
            "16/16 [==============================] - 0s 5ms/step - loss: 0.5979 - accuracy: 0.8600 - val_loss: 0.6014 - val_accuracy: 0.8600\n",
            "Epoch 82/100\n",
            "16/16 [==============================] - 0s 5ms/step - loss: 0.5932 - accuracy: 0.8600 - val_loss: 0.5966 - val_accuracy: 0.8600\n",
            "Epoch 83/100\n",
            "16/16 [==============================] - 0s 4ms/step - loss: 0.5887 - accuracy: 0.8620 - val_loss: 0.5922 - val_accuracy: 0.8600\n",
            "Epoch 84/100\n",
            "16/16 [==============================] - 0s 4ms/step - loss: 0.5842 - accuracy: 0.8630 - val_loss: 0.5879 - val_accuracy: 0.8600\n",
            "Epoch 85/100\n",
            "16/16 [==============================] - 0s 4ms/step - loss: 0.5798 - accuracy: 0.8630 - val_loss: 0.5834 - val_accuracy: 0.8700\n",
            "Epoch 86/100\n",
            "16/16 [==============================] - 0s 4ms/step - loss: 0.5755 - accuracy: 0.8630 - val_loss: 0.5792 - val_accuracy: 0.8700\n",
            "Epoch 87/100\n",
            "16/16 [==============================] - 0s 5ms/step - loss: 0.5714 - accuracy: 0.8630 - val_loss: 0.5749 - val_accuracy: 0.8700\n",
            "Epoch 88/100\n",
            "16/16 [==============================] - 0s 5ms/step - loss: 0.5673 - accuracy: 0.8640 - val_loss: 0.5709 - val_accuracy: 0.8750\n",
            "Epoch 89/100\n",
            "16/16 [==============================] - 0s 4ms/step - loss: 0.5632 - accuracy: 0.8640 - val_loss: 0.5671 - val_accuracy: 0.8700\n",
            "Epoch 90/100\n",
            "16/16 [==============================] - 0s 4ms/step - loss: 0.5592 - accuracy: 0.8660 - val_loss: 0.5630 - val_accuracy: 0.8800\n",
            "Epoch 91/100\n",
            "16/16 [==============================] - 0s 5ms/step - loss: 0.5554 - accuracy: 0.8680 - val_loss: 0.5590 - val_accuracy: 0.8750\n",
            "Epoch 92/100\n",
            "16/16 [==============================] - 0s 4ms/step - loss: 0.5516 - accuracy: 0.8680 - val_loss: 0.5554 - val_accuracy: 0.8750\n",
            "Epoch 93/100\n",
            "16/16 [==============================] - 0s 4ms/step - loss: 0.5478 - accuracy: 0.8690 - val_loss: 0.5517 - val_accuracy: 0.8750\n",
            "Epoch 94/100\n",
            "16/16 [==============================] - 0s 5ms/step - loss: 0.5442 - accuracy: 0.8700 - val_loss: 0.5483 - val_accuracy: 0.8750\n",
            "Epoch 95/100\n",
            "16/16 [==============================] - 0s 4ms/step - loss: 0.5408 - accuracy: 0.8710 - val_loss: 0.5445 - val_accuracy: 0.8800\n",
            "Epoch 96/100\n",
            "16/16 [==============================] - 0s 4ms/step - loss: 0.5371 - accuracy: 0.8730 - val_loss: 0.5412 - val_accuracy: 0.8800\n",
            "Epoch 97/100\n",
            "16/16 [==============================] - 0s 4ms/step - loss: 0.5337 - accuracy: 0.8750 - val_loss: 0.5377 - val_accuracy: 0.8850\n",
            "Epoch 98/100\n",
            "16/16 [==============================] - 0s 5ms/step - loss: 0.5304 - accuracy: 0.8750 - val_loss: 0.5346 - val_accuracy: 0.8850\n",
            "Epoch 99/100\n",
            "16/16 [==============================] - 0s 4ms/step - loss: 0.5269 - accuracy: 0.8750 - val_loss: 0.5314 - val_accuracy: 0.8900\n",
            "Epoch 100/100\n",
            "16/16 [==============================] - 0s 4ms/step - loss: 0.5239 - accuracy: 0.8740 - val_loss: 0.5278 - val_accuracy: 0.8850\n"
          ]
        }
      ]
    },
    {
      "cell_type": "code",
      "source": [
        "# plot Loss\n",
        "plt.plot(MLP_model.history[\"loss\"])\n",
        "plt.plot(MLP_model.history[\"val_loss\"])"
      ],
      "metadata": {
        "colab": {
          "base_uri": "https://localhost:8080/",
          "height": 447
        },
        "id": "Pi_UGrNwGnvh",
        "outputId": "957f4b51-89c8-4d32-bb25-eca3fa9343e8"
      },
      "execution_count": 54,
      "outputs": [
        {
          "output_type": "execute_result",
          "data": {
            "text/plain": [
              "[<matplotlib.lines.Line2D at 0x7c78297fc280>]"
            ]
          },
          "metadata": {},
          "execution_count": 54
        },
        {
          "output_type": "display_data",
          "data": {
            "text/plain": [
              "<Figure size 640x480 with 1 Axes>"
            ],
            "image/png": "[encoded data removed]"
          },
          "metadata": {}
        }
      ]
    },
    {
      "cell_type": "code",
      "source": [
        "# plot accuracy\n",
        "plt.plot(MLP_model.history[\"accuracy\"])\n",
        "plt.plot(MLP_model.history[\"val_accuracy\"])"
      ],
      "metadata": {
        "colab": {
          "base_uri": "https://localhost:8080/",
          "height": 447
        },
        "id": "dcW6OiZoGqMF",
        "outputId": "62ab25b7-364e-47fd-ace2-eda85785ce0b"
      },
      "execution_count": 55,
      "outputs": [
        {
          "output_type": "execute_result",
          "data": {
            "text/plain": [
              "[<matplotlib.lines.Line2D at 0x7c78296d1930>]"
            ]
          },
          "metadata": {},
          "execution_count": 55
        },
        {
          "output_type": "display_data",
          "data": {
            "text/plain": [
              "<Figure size 640x480 with 1 Axes>"
            ],
            "image/png": "[encoded data removed]"
          },
          "metadata": {}
        }
      ]
    }
  ]
}